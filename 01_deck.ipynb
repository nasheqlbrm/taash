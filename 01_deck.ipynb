{
 "cells": [
  {
   "cell_type": "code",
   "execution_count": 1,
   "id": "1ec64a02",
   "metadata": {},
   "outputs": [],
   "source": [
    "#| default_exp deck"
   ]
  },
  {
   "cell_type": "code",
   "execution_count": 2,
   "id": "c26d3aff",
   "metadata": {},
   "outputs": [],
   "source": [
    "#| export\n",
    "from fastcore.utils import *"
   ]
  },
  {
   "cell_type": "code",
   "execution_count": 18,
   "id": "a34b9205",
   "metadata": {},
   "outputs": [],
   "source": [
    "#| hide\n",
    "from nbdev.showdoc import *\n",
    "from fastcore.test import *\n",
    "import random"
   ]
  },
  {
   "cell_type": "code",
   "execution_count": 4,
   "id": "61e73176",
   "metadata": {},
   "outputs": [],
   "source": [
    "#| export\n",
    "from taash.card import *"
   ]
  },
  {
   "cell_type": "markdown",
   "id": "ddd5dc99",
   "metadata": {},
   "source": [
    "# deck\n",
    "\n",
    "> A deck of playing cards"
   ]
  },
  {
   "cell_type": "code",
   "execution_count": 19,
   "id": "1ae3a611",
   "metadata": {},
   "outputs": [],
   "source": [
    "#| export\n",
    "class Deck:\n",
    "    \"A deck of 52 cards\"\n",
    "    def __init__(self): self.cards =[Card(suit=s,rank=r) for s in range(4) for r in range(1,14)] \n",
    "    def __len__(self): return len(self.cards)\n",
    "    def __str__(self): return \"; \".join(map(str,self.cards))\n",
    "    def __contains__(self,card:Card): return card in self.cards\n",
    "    __repr__ = __str__\n",
    "    \n",
    "    def shuffle(self):\n",
    "        \"Shuffles the cards in the deck\"\n",
    "        random.shuffle(self.cards)"
   ]
  },
  {
   "cell_type": "markdown",
   "id": "82650dbc",
   "metadata": {},
   "source": [
    "When we initially create a deck, all of the cards will be present."
   ]
  },
  {
   "cell_type": "code",
   "execution_count": 6,
   "id": "4d2b3d15",
   "metadata": {},
   "outputs": [
    {
     "data": {
      "text/plain": [
       "A♣️; 2♣️; 3♣️; 4♣️; 5♣️; 6♣️; 7♣️; 8♣️; 9♣️; 10♣️; J♣️; Q♣️; K♣️; A♦️; 2♦️; 3♦️; 4♦️; 5♦️; 6♦️; 7♦️; 8♦️; 9♦️; 10♦️; J♦️; Q♦️; K♦️; A❤️; 2❤️; 3❤️; 4❤️; 5❤️; 6❤️; 7❤️; 8❤️; 9❤️; 10❤️; J❤️; Q❤️; K❤️; A♠️; 2♠️; 3♠️; 4♠️; 5♠️; 6♠️; 7♠️; 8♠️; 9♠️; 10♠️; J♠️; Q♠️; K♠️"
      ]
     },
     "execution_count": 6,
     "metadata": {},
     "output_type": "execute_result"
    }
   ],
   "source": [
    "deck = Deck()\n",
    "deck"
   ]
  },
  {
   "cell_type": "markdown",
   "id": "af8b3465",
   "metadata": {},
   "source": [
    "There should be 52 cards."
   ]
  },
  {
   "cell_type": "code",
   "execution_count": 7,
   "id": "5958406f",
   "metadata": {},
   "outputs": [],
   "source": [
    "test_eq(len(deck),52)"
   ]
  },
  {
   "cell_type": "markdown",
   "id": "30436528",
   "metadata": {},
   "source": [
    "We can check if, say, the Ace of Hearts is in the deck."
   ]
  },
  {
   "cell_type": "code",
   "execution_count": 8,
   "id": "6df2f237",
   "metadata": {},
   "outputs": [],
   "source": [
    "assert Card(suit=2,rank=1) in deck"
   ]
  },
  {
   "cell_type": "code",
   "execution_count": 9,
   "id": "94926975",
   "metadata": {},
   "outputs": [],
   "source": [
    "#| hide\n",
    "assert not Card(suit=1,rank=0) in deck"
   ]
  },
  {
   "cell_type": "code",
   "execution_count": 10,
   "id": "3478d311",
   "metadata": {},
   "outputs": [],
   "source": [
    "#| export\n",
    "@patch\n",
    "def pop(self:Deck,\n",
    "        idx: int = -1): # The index of the card to remove, defaulting to the last one.\n",
    "    \"Remove one card from the deck\"\n",
    "    return self.cards.pop(idx)"
   ]
  },
  {
   "cell_type": "code",
   "execution_count": 13,
   "id": "78958517",
   "metadata": {},
   "outputs": [],
   "source": [
    "deck = Deck()\n",
    "test_eq(deck.pop(),Card(3,13))"
   ]
  },
  {
   "cell_type": "markdown",
   "id": "d18fadde",
   "metadata": {},
   "source": [
    "There are 51 cards left in the deck now"
   ]
  },
  {
   "cell_type": "code",
   "execution_count": 14,
   "id": "ecdbeb63",
   "metadata": {},
   "outputs": [],
   "source": [
    "test_eq(len(deck), 51)"
   ]
  },
  {
   "cell_type": "code",
   "execution_count": 17,
   "id": "42da408d",
   "metadata": {},
   "outputs": [],
   "source": [
    "#| export\n",
    "@patch\n",
    "def remove(self:Deck,\n",
    "        card: Card):\n",
    "    \"Removes `card` from the deck. Raises an exception if it is not there\"\n",
    "    return self.cards.remove(card)"
   ]
  },
  {
   "cell_type": "code",
   "execution_count": 16,
   "id": "97c7bda4",
   "metadata": {},
   "outputs": [],
   "source": [
    "deck = Deck()\n",
    "card23 = Card(2,3)\n",
    "deck.remove(card23)\n",
    "\n",
    "assert card23 not in deck"
   ]
  },
  {
   "cell_type": "code",
   "execution_count": 21,
   "id": "ce12f976",
   "metadata": {},
   "outputs": [
    {
     "data": {
      "text/markdown": [
       "---\n",
       "\n",
       "### Deck.shuffle\n",
       "\n",
       ">      Deck.shuffle ()\n",
       "\n",
       "Shuffles the cards in the deck"
      ],
      "text/plain": [
       "---\n",
       "\n",
       "### Deck.shuffle\n",
       "\n",
       ">      Deck.shuffle ()\n",
       "\n",
       "Shuffles the cards in the deck"
      ]
     },
     "execution_count": 21,
     "metadata": {},
     "output_type": "execute_result"
    }
   ],
   "source": [
    "show_doc(Deck.shuffle)"
   ]
  },
  {
   "cell_type": "code",
   "execution_count": 22,
   "id": "90fcf605",
   "metadata": {},
   "outputs": [],
   "source": [
    "#| export\n",
    "def draw_n(n:int, # number of cards to draw\n",
    "           replace:bool=True): # whether or not draw with replacement\n",
    "    \"Draw `n` cards, with replacement if `replace`\"\n",
    "    d = Deck()\n",
    "    d.shuffle()\n",
    "    if replace: return [d.cards[random.choice(range(len(d.cards)))] for _ in range(n)]\n",
    "    else: return d.cards[:n]"
   ]
  },
  {
   "cell_type": "code",
   "execution_count": 23,
   "id": "dec680be",
   "metadata": {},
   "outputs": [
    {
     "data": {
      "text/plain": [
       "[9♠️, 2♠️, K❤️, 2❤️, 4❤️, 5♣️, 10❤️, 10♦️, A❤️, A♦️, 9❤️, 8♠️, J♦️]"
      ]
     },
     "execution_count": 23,
     "metadata": {},
     "output_type": "execute_result"
    }
   ],
   "source": [
    "draw_n(13, replace=False)"
   ]
  },
  {
   "cell_type": "code",
   "execution_count": 12,
   "id": "f0188a69",
   "metadata": {},
   "outputs": [],
   "source": [
    "#| hide\n",
    "import nbdev; nbdev.nbdev_export()"
   ]
  }
 ],
 "metadata": {
  "kernelspec": {
   "display_name": "Python 3 (ipykernel)",
   "language": "python",
   "name": "python3"
  },
  "language_info": {
   "codemirror_mode": {
    "name": "ipython",
    "version": 3
   },
   "file_extension": ".py",
   "mimetype": "text/x-python",
   "name": "python",
   "nbconvert_exporter": "python",
   "pygments_lexer": "ipython3",
   "version": "3.10.6"
  }
 },
 "nbformat": 4,
 "nbformat_minor": 5
}
